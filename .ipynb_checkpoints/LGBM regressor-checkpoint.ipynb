{
 "cells": [
  {
   "cell_type": "code",
   "execution_count": 1,
   "id": "9da6cb92",
   "metadata": {},
   "outputs": [
    {
     "ename": "ModuleNotFoundError",
     "evalue": "No module named 'lightgbm'",
     "output_type": "error",
     "traceback": [
      "\u001b[1;31m---------------------------------------------------------------------------\u001b[0m",
      "\u001b[1;31mModuleNotFoundError\u001b[0m                       Traceback (most recent call last)",
      "Input \u001b[1;32mIn [1]\u001b[0m, in \u001b[0;36m<cell line: 21>\u001b[1;34m()\u001b[0m\n\u001b[0;32m     18\u001b[0m \u001b[38;5;28;01mfrom\u001b[39;00m \u001b[38;5;21;01msklearn\u001b[39;00m\u001b[38;5;21;01m.\u001b[39;00m\u001b[38;5;21;01mpreprocessing\u001b[39;00m \u001b[38;5;28;01mimport\u001b[39;00m MinMaxScaler, StandardScaler\n\u001b[0;32m     19\u001b[0m \u001b[38;5;28;01mfrom\u001b[39;00m \u001b[38;5;21;01msklearn\u001b[39;00m\u001b[38;5;21;01m.\u001b[39;00m\u001b[38;5;21;01mmodel_selection\u001b[39;00m \u001b[38;5;28;01mimport\u001b[39;00m train_test_split\n\u001b[1;32m---> 21\u001b[0m \u001b[38;5;28;01mimport\u001b[39;00m \u001b[38;5;21;01mlightgbm\u001b[39;00m \u001b[38;5;28;01mas\u001b[39;00m \u001b[38;5;21;01mlgb\u001b[39;00m\n\u001b[0;32m     23\u001b[0m color_pal\u001b[38;5;241m=\u001b[39m sns\u001b[38;5;241m.\u001b[39mcolor_palette()\n\u001b[0;32m     24\u001b[0m plt\u001b[38;5;241m.\u001b[39mstyle\u001b[38;5;241m.\u001b[39muse(\u001b[38;5;124m'\u001b[39m\u001b[38;5;124mfivethirtyeight\u001b[39m\u001b[38;5;124m'\u001b[39m)\n",
      "\u001b[1;31mModuleNotFoundError\u001b[0m: No module named 'lightgbm'"
     ]
    }
   ],
   "source": [
    "import statsmodels.api as sm\n",
    "import warnings\n",
    "import matplotlib\n",
    "import matplotlib.pyplot as plt\n",
    "import matplotlib as mpl\n",
    "from matplotlib.pyplot import acorr\n",
    "%matplotlib inline\n",
    " \n",
    "warnings.filterwarnings(\"ignore\")\n",
    "import pandas as pd\n",
    "pd.plotting.register_matplotlib_converters()\n",
    "import numpy as np\n",
    "import seaborn as sns\n",
    "\n",
    "import plotly.express as px\n",
    "from sklearn.ensemble import IsolationForest\n",
    "from sklearn.metrics import mean_squared_error\n",
    "from sklearn.preprocessing import MinMaxScaler, StandardScaler\n",
    "from sklearn.model_selection import train_test_split\n",
    "\n",
    "import lightgbm as lgb\n",
    "\n",
    "color_pal= sns.color_palette()\n",
    "plt.style.use('fivethirtyeight')\n",
    "\n",
    "mpl.rcParams['figure.figsize']=(10,5)\n",
    "mpl.rcParams['axes.grid']= False"
   ]
  },
  {
   "cell_type": "code",
   "execution_count": 2,
   "id": "811587c1",
   "metadata": {},
   "outputs": [
    {
     "name": "stdout",
     "output_type": "stream",
     "text": [
      "Defaulting to user installation because normal site-packages is not writeable\n",
      "Collecting lightgbm\n",
      "  Downloading lightgbm-3.3.2-py3-none-win_amd64.whl (1.0 MB)\n",
      "     ---------------------------------------- 1.0/1.0 MB 350.7 kB/s eta 0:00:00\n",
      "Requirement already satisfied: wheel in c:\\users\\benny\\appdata\\roaming\\python\\python39\\site-packages (from lightgbm) (0.37.1)\n",
      "Requirement already satisfied: numpy in c:\\programana\\envs\\tensorflow\\lib\\site-packages (from lightgbm) (1.22.3)\n",
      "Requirement already satisfied: scikit-learn!=0.22.0 in c:\\users\\benny\\appdata\\roaming\\python\\python39\\site-packages (from lightgbm) (1.1.1)\n",
      "Requirement already satisfied: scipy in c:\\programana\\envs\\tensorflow\\lib\\site-packages (from lightgbm) (1.7.3)\n",
      "Requirement already satisfied: joblib>=1.0.0 in c:\\users\\benny\\appdata\\roaming\\python\\python39\\site-packages (from scikit-learn!=0.22.0->lightgbm) (1.1.0)\n",
      "Requirement already satisfied: threadpoolctl>=2.0.0 in c:\\users\\benny\\appdata\\roaming\\python\\python39\\site-packages (from scikit-learn!=0.22.0->lightgbm) (3.1.0)\n",
      "Installing collected packages: lightgbm\n",
      "Successfully installed lightgbm-3.3.2\n",
      "Note: you may need to restart the kernel to use updated packages.\n"
     ]
    }
   ],
   "source": [
    "pip install lightgbm"
   ]
  },
  {
   "cell_type": "code",
   "execution_count": null,
   "id": "5f37d9a8",
   "metadata": {},
   "outputs": [],
   "source": [
    "edata = pd.read_csv(\"energydata.csv\")"
   ]
  },
  {
   "cell_type": "code",
   "execution_count": null,
   "id": "a14c9efb",
   "metadata": {},
   "outputs": [],
   "source": [
    "edata.head()"
   ]
  },
  {
   "cell_type": "code",
   "execution_count": null,
   "id": "f9799467",
   "metadata": {},
   "outputs": [],
   "source": [
    "edata['date']= pd.to_datetime(edata['date'], infer_datetime_format=True)"
   ]
  },
  {
   "cell_type": "code",
   "execution_count": null,
   "id": "37fca962",
   "metadata": {},
   "outputs": [],
   "source": [
    "edata= edata.set_index('date').resample('H').mean().reset_index() #aggregating into hourly basis"
   ]
  },
  {
   "cell_type": "code",
   "execution_count": null,
   "id": "81a31854",
   "metadata": {},
   "outputs": [],
   "source": [
    "edata.set_index('date', inplace=True)"
   ]
  },
  {
   "cell_type": "code",
   "execution_count": null,
   "id": "8e50e547",
   "metadata": {},
   "outputs": [],
   "source": [
    "def create_features(edata):\n",
    "    \"\"\"\n",
    "    create time series features based on time series index\n",
    "    \"\"\"\n",
    "    edata['hour']=edata.index.hour\n",
    "    edata['dayofweek']= edata.index.dayofweek\n",
    "    edata['month']=edata.index.month\n",
    "    edata['year']=edata.index.year\n",
    "    edata['dayofmonth']=edata.index.day\n",
    "    edata['weekofyear']=edata.index.isocalendar().week.astype(np.int64)\n",
    "    return edata\n",
    "\n",
    "edata=create_features(edata)"
   ]
  },
  {
   "cell_type": "code",
   "execution_count": null,
   "id": "bb2abebe",
   "metadata": {},
   "outputs": [],
   "source": [
    "def add_lags(edata):\n",
    "    target_map= edata['appl'].to_dict()\n",
    "    edata['lag1']=(edata.index- pd.Timedelta('30 days')).map(target_map)\n",
    "    edata['lag2']=(edata.index- pd.Timedelta('60 days')).map(target_map)\n",
    "    edata['lag3']=(edata.index- pd.Timedelta('90 days')).map(target_map)\n",
    "    edata['lag4']=(edata.index- pd.Timedelta('120 days')).map(target_map)\n",
    "    #edata['lag5']=(edata.index- pd.Timedelta('150 days')).map(target_map)\n",
    "    return edata"
   ]
  },
  {
   "cell_type": "code",
   "execution_count": null,
   "id": "4c8e1dff",
   "metadata": {},
   "outputs": [],
   "source": [
    "edata=add_lags(edata)"
   ]
  },
  {
   "cell_type": "code",
   "execution_count": null,
   "id": "351819e7",
   "metadata": {},
   "outputs": [],
   "source": [
    "train=create_features(train)\n",
    "test=create_features(test)"
   ]
  },
  {
   "cell_type": "code",
   "execution_count": null,
   "id": "20778460",
   "metadata": {},
   "outputs": [],
   "source": [
    "edata.columns"
   ]
  },
  {
   "cell_type": "code",
   "execution_count": null,
   "id": "e2ba5da0",
   "metadata": {},
   "outputs": [],
   "source": [
    "X= ['lgt', 'temp1', 'rh_1', 'temp2', 'rh_2', 'temp3', 'rh_3',\n",
    "       'temp4', 'rh_4', 'temp5', 'rh_5', 'temp6', 'rh_6', 'temp7', 'rh_7',\n",
    "       'temp8', 'rh_8', 'temp9', 'rh_9', 'temp_out', 'press', 'rh_out',\n",
    "       'windspeed', 'visibility', 'dewpoint', 'rv1', 'rv2', 'hour',\n",
    "       'dayofweek', 'month', 'year', 'dayofmonth', 'weekofyear', 'lag1',\n",
    "       'lag2', 'lag3', 'lag4']\n",
    "y= ['appl']"
   ]
  },
  {
   "cell_type": "code",
   "execution_count": null,
   "id": "c9632ae6",
   "metadata": {},
   "outputs": [],
   "source": [
    "train=edata.loc[edata.index < '2016-04-16']\n",
    "test= edata.loc[edata.index >= '2016-04-16']"
   ]
  },
  {
   "cell_type": "code",
   "execution_count": null,
   "id": "a7b6cd74",
   "metadata": {},
   "outputs": [],
   "source": [
    "print(train.shape) \n",
    "print(test.shape) "
   ]
  },
  {
   "cell_type": "code",
   "execution_count": null,
   "id": "59c2f8c0",
   "metadata": {},
   "outputs": [],
   "source": [
    "X_train_split, X_test_split, y_train_split, y_test_split= train_test_split(X_train, y_train, test_size=0.3, random_state=False)"
   ]
  },
  {
   "cell_type": "code",
   "execution_count": null,
   "id": "468e2d77",
   "metadata": {},
   "outputs": [],
   "source": [
    "n_folds=5\n",
    "folds=TimeSeriesSplit(n_splits=n_folds)\n",
    "folds=KFold(n_splits=5)"
   ]
  },
  {
   "cell_type": "code",
   "execution_count": null,
   "id": "d0c551b0",
   "metadata": {},
   "outputs": [],
   "source": [
    "X_train=train[X]\n",
    "y_train=train[y]\n",
    "\n",
    "X_test=test[X]\n",
    "y_test=test[y]"
   ]
  },
  {
   "cell_type": "code",
   "execution_count": null,
   "id": "ff4806d9",
   "metadata": {},
   "outputs": [],
   "source": [
    "reg= lgb.LGBMRegressor()"
   ]
  },
  {
   "cell_type": "code",
   "execution_count": null,
   "id": "2d6a2852",
   "metadata": {},
   "outputs": [],
   "source": [
    "reg.get_params()"
   ]
  },
  {
   "cell_type": "code",
   "execution_count": null,
   "id": "72954c05",
   "metadata": {},
   "outputs": [],
   "source": [
    "params={}"
   ]
  },
  {
   "cell_type": "code",
   "execution_count": null,
   "id": "a05cb808",
   "metadata": {},
   "outputs": [],
   "source": [
    "fit_params={[X_test, y_test], objective='regression', boosting_type='gbdt', importance_type='split', max_depth=3, n_estimators=500, learning_rate=0.1, early_stoppping_rounds=200, verbose=True}\n",
    "reg.fit(X_train, y_train, **fit_params)"
   ]
  },
  {
   "cell_type": "code",
   "execution_count": null,
   "id": "075a7953",
   "metadata": {},
   "outputs": [],
   "source": []
  },
  {
   "cell_type": "code",
   "execution_count": null,
   "id": "8e8b5e50",
   "metadata": {},
   "outputs": [],
   "source": []
  },
  {
   "cell_type": "code",
   "execution_count": null,
   "id": "75bc4d42",
   "metadata": {},
   "outputs": [],
   "source": []
  }
 ],
 "metadata": {
  "kernelspec": {
   "display_name": "Python 3 (ipykernel)",
   "language": "python",
   "name": "python3"
  },
  "language_info": {
   "codemirror_mode": {
    "name": "ipython",
    "version": 3
   },
   "file_extension": ".py",
   "mimetype": "text/x-python",
   "name": "python",
   "nbconvert_exporter": "python",
   "pygments_lexer": "ipython3",
   "version": "3.9.12"
  }
 },
 "nbformat": 4,
 "nbformat_minor": 5
}
